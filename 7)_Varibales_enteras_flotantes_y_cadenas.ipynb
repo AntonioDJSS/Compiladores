{
  "nbformat": 4,
  "nbformat_minor": 0,
  "metadata": {
    "colab": {
      "name": "7) Varibales enteras flotantes y cadenas.ipynb",
      "provenance": [],
      "authorship_tag": "ABX9TyNKrfAF1Hdx1RMZ+I+R7SDy",
      "include_colab_link": true
    },
    "kernelspec": {
      "name": "python3",
      "display_name": "Python 3"
    },
    "language_info": {
      "name": "python"
    }
  },
  "cells": [
    {
      "cell_type": "markdown",
      "metadata": {
        "id": "view-in-github",
        "colab_type": "text"
      },
      "source": [
        "<a href=\"https://colab.research.google.com/github/AntonioDJSS/Compiladores/blob/main/7)_Varibales_enteras_flotantes_y_cadenas.ipynb\" target=\"_parent\"><img src=\"https://colab.research.google.com/assets/colab-badge.svg\" alt=\"Open In Colab\"/></a>"
      ]
    },
    {
      "cell_type": "markdown",
      "source": [
        "# Antonio de Jesus Sanchez Suarez | ICO O5"
      ],
      "metadata": {
        "id": "BJ3M2v28cufL"
      }
    },
    {
      "cell_type": "markdown",
      "source": [
        "Realizar la carga por teclado del nombre, edad y altura de dos personas. Mostrar por pantalla el nombre de la persona con mayor altura."
      ],
      "metadata": {
        "id": "F9wn7Rw7c9P7"
      }
    },
    {
      "cell_type": "code",
      "execution_count": 16,
      "metadata": {
        "colab": {
          "base_uri": "https://localhost:8080/"
        },
        "id": "g2UJiEn6cuBf",
        "outputId": "bb7c6ec2-b8e6-4084-8f80-0afd37c3834f"
      },
      "outputs": [
        {
          "output_type": "stream",
          "name": "stdout",
          "text": [
            "\n",
            "Persona 1: \n",
            "Ingresa tu nombre: Jesus\n",
            "Ingresa tu edad: 20\n",
            "Ingresa tu altura: 1.2\n",
            "\n",
            "Persona 2: \n",
            "Ingresa tu nombre: Daniel\n",
            "Ingresa tu edad: 20\n",
            "Ingresa tu altura: 1.7\n",
            "Daniel es mas alto\n"
          ]
        }
      ],
      "source": [
        "contador = 0\n",
        "lista = []\n",
        "name = []\n",
        "\n",
        "for contador in range(1,3):\n",
        "  print(f'\\nPersona {contador}: ')\n",
        "  nombre = input('Ingresa tu nombre: ')\n",
        "  edad =int(input('Ingresa tu edad: '))\n",
        "  altura = float(input('Ingresa tu altura: '))\n",
        "\n",
        "  lista.append(altura)\n",
        "  name.append(nombre)\n",
        "\n",
        "altura1 = lista[0]\n",
        "altura2 = lista[1]\n",
        "\n",
        "name1 = name[0]\n",
        "name2 = name[1]\n",
        "\n",
        "if altura1 > altura2:\n",
        "  print(f'{name1} es mas alto') \n",
        "elif altura1 == altura2:\n",
        "  print('Miden lo mismo')\n",
        "else:\n",
        "  print(f'{name2} es mas alto')"
      ]
    },
    {
      "cell_type": "markdown",
      "source": [
        "Realizar la carga de dos nombres por teclado. Mostrar cual de los dos es mayor alfabéticamente o si son iguales."
      ],
      "metadata": {
        "id": "e4Yx3lgJgA1b"
      }
    },
    {
      "cell_type": "code",
      "source": [
        "contador = 0\n",
        "lista = []\n",
        "\n",
        "for contador in range(1,3):\n",
        "  print(f'\\nPersona {contador}: ')\n",
        "  nombre = input('Ingresa tu nombre: ')\n",
        "  lista.append(nombre)\n",
        "\n",
        "dato1 = lista[0]\n",
        "dato2 = lista[1]\n",
        "\n",
        "longitud1 = len(dato1)\n",
        "longitud2 = len(dato2)\n",
        "\n",
        "if longitud1 > longitud2:\n",
        "  print(f'{dato1} es mas largo') \n",
        "elif longitud1 == longitud2:\n",
        "  print('Ambos miden lo mismo')\n",
        "else:\n",
        "  print(f'{dato2} es mas largo')"
      ],
      "metadata": {
        "colab": {
          "base_uri": "https://localhost:8080/"
        },
        "id": "MJakXqM5gAkK",
        "outputId": "8a550fd2-1df1-4c4c-fc6a-8a1f06dbbbfb"
      },
      "execution_count": 19,
      "outputs": [
        {
          "output_type": "stream",
          "name": "stdout",
          "text": [
            "\n",
            "Persona 1: \n",
            "Ingresa tu nombre: Jesus\n",
            "\n",
            "Persona 2: \n",
            "Ingresa tu nombre: Jesus\n",
            "Ambos miden lo mismo\n"
          ]
        }
      ]
    },
    {
      "cell_type": "markdown",
      "source": [
        "Realizar la carga de enteros por teclado. Preguntar después que ingresa el valor si desea cargar otro valor debiendo el operador ingresar la cadena 'si' o 'no' por teclado.Mostrar la suma de los valores ingresados."
      ],
      "metadata": {
        "id": "7VwGxytdhoac"
      }
    },
    {
      "cell_type": "code",
      "source": [
        "opcion = 'y'\n",
        "suma = 0\n",
        "\n",
        "while opcion == 'y':\n",
        "  valor = int(input('Ingresa un valor: '))\n",
        "  suma = suma + valor\n",
        "  opcion = input('Desea cargar otro numero: (y/n): ')\n",
        "\n",
        "print(f'La suma de los valores ingresados es: {suma}')"
      ],
      "metadata": {
        "colab": {
          "base_uri": "https://localhost:8080/"
        },
        "id": "Ozpgs8wHhv4z",
        "outputId": "8a0763f6-0995-4753-d830-a01903e01cc2"
      },
      "execution_count": 21,
      "outputs": [
        {
          "output_type": "stream",
          "name": "stdout",
          "text": [
            "Ingresa un valor: 1\n",
            "Desea cargar otro numero: (Y/N): y\n",
            "Ingresa un valor: 3\n",
            "Desea cargar otro numero: (Y/N): y\n",
            "Ingresa un valor: 9\n",
            "Desea cargar otro numero: (Y/N): n\n",
            "La suma de los valores ingresados es: 13\n"
          ]
        }
      ]
    },
    {
      "cell_type": "code",
      "source": [
        ""
      ],
      "metadata": {
        "id": "WcgSLSQtiOe-"
      },
      "execution_count": null,
      "outputs": []
    }
  ]
}