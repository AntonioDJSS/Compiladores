{
  "nbformat": 4,
  "nbformat_minor": 0,
  "metadata": {
    "colab": {
      "name": "Actividad04-AJSS.ipynb",
      "provenance": [],
      "authorship_tag": "ABX9TyMCueCwzycCx1TEMVpZnkzz",
      "include_colab_link": true
    },
    "kernelspec": {
      "name": "python3",
      "display_name": "Python 3"
    },
    "language_info": {
      "name": "python"
    }
  },
  "cells": [
    {
      "cell_type": "markdown",
      "metadata": {
        "id": "view-in-github",
        "colab_type": "text"
      },
      "source": [
        "<a href=\"https://colab.research.google.com/github/AntonioDJSS/Compiladores/blob/main/Actividad04_AJSS.ipynb\" target=\"_parent\"><img src=\"https://colab.research.google.com/assets/colab-badge.svg\" alt=\"Open In Colab\"/></a>"
      ]
    },
    {
      "cell_type": "markdown",
      "source": [
        "# **ANTONIO DE JESUS SANCHEZ SUAREZ**"
      ],
      "metadata": {
        "id": "LdJGBVeGuMyL"
      }
    },
    {
      "cell_type": "markdown",
      "source": [
        "**ACTIVIDAD 01 - ERRORES SINTACTICOS Y LOGICOS**"
      ],
      "metadata": {
        "id": "lAmWysS_MwEI"
      }
    },
    {
      "cell_type": "code",
      "execution_count": 3,
      "metadata": {
        "colab": {
          "base_uri": "https://localhost:8080/"
        },
        "id": "2Wo9QBxML5GP",
        "outputId": "394a90ce-2978-4b32-c777-268f7b5cd537"
      },
      "outputs": [
        {
          "output_type": "stream",
          "name": "stdout",
          "text": [
            "Ingrese la medida del lado del cuadrado: 2\n",
            "La superficie del cuadrado es: 4\n"
          ]
        }
      ],
      "source": [
        "#Solucion de ejercicio con error Sintaxtico y Logico.\n",
        "\n",
        "lado = int(input(\"Ingrese la medida del lado del cuadrado: \"))\n",
        "superficie = lado * lado \n",
        "print(\"La superficie del cuadrado es:\", superficie)"
      ]
    },
    {
      "cell_type": "markdown",
      "source": [
        "**ACTIVIDAD 02 - ESTRUCTURA DE PROGRAMACION SECUENCIAL**"
      ],
      "metadata": {
        "id": "ZUaa4JFVNAtA"
      }
    },
    {
      "cell_type": "code",
      "source": [
        "\"\"\"Realizar la carga del lado de un cuadrado, mostrar por pantalla el perímetro del mismo \n",
        "(El perímetro de un cuadrado se calcula multiplicando el valor del lado por cuatro)\"\"\"\n",
        "\n",
        "lado = int(input('Bienvenido a la calculadora de perimetos\\nInserta el lado de tu cuadrado: '))\n",
        "perimetro = lado * 4\n",
        "print('El perimetro de tu cuadrado es:', perimetro)"
      ],
      "metadata": {
        "colab": {
          "base_uri": "https://localhost:8080/"
        },
        "id": "Pylx4HgbNFV4",
        "outputId": "7e6862bd-36a2-494e-e62b-9b9bcc6a7ef8"
      },
      "execution_count": 7,
      "outputs": [
        {
          "output_type": "stream",
          "name": "stdout",
          "text": [
            "Bienvenido a la calculadora de perimetos\n",
            "Inserta el lado de tu cuadrado: 5\n",
            "El perimetro de tu cuadrado es: 20\n"
          ]
        }
      ]
    },
    {
      "cell_type": "code",
      "source": [
        "\"\"\"Escribir un programa en el cual se ingresen cuatro números, calcular e informar la suma de los dos primeros y el producto del tercero y el cuarto\"\"\"\n",
        "\n",
        "valor1 = int(input('Ingresa tu primer valor:'))\n",
        "valor2 = int(input('Ingresa tu segundo valor:'))\n",
        "valor3 = int(input('Ingresa tu tercero valor:'))\n",
        "valor4 = int(input('Ingresa tu cuarto valor:'))\n",
        "\n",
        "suma = valor1 + valor2\n",
        "producto = valor3 * valor4\n",
        "\n",
        "print('\\nLa suma de los primeros dos numeros es:', suma)\n",
        "print('\\nLa multiplicacion de los ultimos dos numeroes es:', producto)"
      ],
      "metadata": {
        "colab": {
          "base_uri": "https://localhost:8080/"
        },
        "id": "zXuJEhK9OFQ_",
        "outputId": "6ae1bf74-fbcc-423e-b514-4fee5168b58c"
      },
      "execution_count": 18,
      "outputs": [
        {
          "output_type": "stream",
          "name": "stdout",
          "text": [
            "Ingresa tu primer valor:1\n",
            "Ingresa tu segundo valor:2\n",
            "Ingresa tu tercero valor:3\n",
            "Ingresa tu cuarto valor:4\n",
            "\n",
            "La suma de los primeros dos numeros es: 3\n",
            "\n",
            "La multiplicacion de los ultimos dos numeroes es: 12\n"
          ]
        }
      ]
    },
    {
      "cell_type": "code",
      "source": [
        "\"\"\"Realizar un programa que lea cuatro valores numéricos e informar su suma y promedio.\"\"\"\n",
        "\n",
        "datos = [] #Lista vacia\n",
        " \n",
        "for recorrido in range(4): #Por cada rango recorrido en un rango de 4 (0,1,2,3)\n",
        "  valor = int(input('Ingresa el valor {}:'.format(recorrido))) #Input almacenado en valor, donde recorrido es 0,1,2,3\n",
        "  datos.append(valor) #Añade a la lista datos cada valor\n",
        "\n",
        "#Extraemos cada valor de la lista para trabajarlos por separado\n",
        "valor1 = datos[0]\n",
        "valor2 = datos[1]\n",
        "valor3 = datos[2]\n",
        "valor4 = datos[3]\n",
        "\n",
        "#Operaciones\n",
        "suma = valor1 + valor2 + valor3 + valor4\n",
        "print('La suma de tus valores es: {}'.format(suma))\n",
        "\n",
        "promedio = suma/4\n",
        "print('El primedio de los valores es: {}'.format(promedio))"
      ],
      "metadata": {
        "colab": {
          "base_uri": "https://localhost:8080/"
        },
        "id": "buqJPlaHQdJt",
        "outputId": "3e489647-68f3-43e1-c59d-4e0178ba5b82"
      },
      "execution_count": 75,
      "outputs": [
        {
          "output_type": "stream",
          "name": "stdout",
          "text": [
            "Ingresa el valor 0:10\n",
            "Ingresa el valor 1:9\n",
            "Ingresa el valor 2:8\n",
            "Ingresa el valor 3:10\n",
            "La suma de tus valores es: 37\n",
            "El primedio de los valores es: 9.25\n"
          ]
        }
      ]
    },
    {
      "cell_type": "code",
      "source": [
        "\"\"\"Calcular el sueldo mensual de un operario conociendo la cantidad de horas trabajadas y el valor por hora.\"\"\"\n",
        "\n",
        "horas = float(input('Cantidad de horas trabajadas por dia: '))\n",
        "valor = float(input('Valor por hora de trabajo: '))\n",
        "dias = int(input('Inserta el total de dias trabajados en el mes: '))\n",
        "\n",
        "print('Usted trabajo {} horas por dia, cada hora la pagan en ${}, y trabajo {} dias al mes, por ende usted cobro:'.format(horas,valor,dias))\n",
        "\n",
        "sueldo = horas * valor\n",
        "total = sueldo * dias\n",
        "print(total)"
      ],
      "metadata": {
        "colab": {
          "base_uri": "https://localhost:8080/"
        },
        "id": "LBnU05hJcVFc",
        "outputId": "25055e29-0943-4ad2-cf4d-c0d2184ef8ab"
      },
      "execution_count": 80,
      "outputs": [
        {
          "output_type": "stream",
          "name": "stdout",
          "text": [
            "Cantidad de horas trabajadas por dia: 8\n",
            "Valor por hora de trabajo: 88\n",
            "Inserta el total de dias trabajados en el mes: 13\n",
            "Usted trabajo 8.0 horas por dia, cada hora la pagan en $88.0, y trabajo 13 dias al mes, por ende usted cobro:\n",
            "9152.0\n"
          ]
        }
      ]
    },
    {
      "cell_type": "markdown",
      "source": [
        "**ACTIVIDAD 03 - ESTRUCTURAS CONDICIONALES SIMPLES Y COMPUESTAS**"
      ],
      "metadata": {
        "id": "k9DxZMVqkdna"
      }
    },
    {
      "cell_type": "code",
      "source": [
        "\"\"\"Realizar un programa que solicite la carga por teclado de dos números, si el primero es mayor al segundo informar \n",
        "su suma y diferencia, en caso contrario informar el producto y la división del primero respecto al segundo..\"\"\"\n",
        "\n",
        "datos = []\n",
        "\n",
        "for recorrido in range(1,3):\n",
        "  valores = int(input('Ingresa tu valor {}: '.format(recorrido)))\n",
        "  datos.append(valores)\n",
        "\n",
        "valor1, valor2 = datos[0],datos[1]\n",
        "\n",
        "if valor1 > valor2:\n",
        "  suma = valor1 + valor2\n",
        "  resta = valor1 - valor2\n",
        "  print('La suma es: {}'.format(suma))\n",
        "  print('La resta es: {}'.format(resta))\n",
        "elif valor1 < valor2:\n",
        "  producto = valor1 * valor2\n",
        "  division = valor1/valor2\n",
        "  print('La multiplicacion es: {}'.format(producto))\n",
        "  print('La division es: {}'.format(division))\n"
      ],
      "metadata": {
        "colab": {
          "base_uri": "https://localhost:8080/"
        },
        "id": "0n0wYSCShrDt",
        "outputId": "1f871b9e-af9c-4f3f-b08d-33a5c4bdc99d"
      },
      "execution_count": 97,
      "outputs": [
        {
          "output_type": "stream",
          "name": "stdout",
          "text": [
            "Ingresa tu valor 1: 9\n",
            "Ingresa tu valor 2: 3\n",
            "La suma es: 12\n",
            "La resta es: 6\n"
          ]
        }
      ]
    },
    {
      "cell_type": "code",
      "source": [
        "\"\"\"Ingresan tres notas de un alumno, si el promedio es mayor o igual a siete mostrar un mensaje \"Promocionado\".\"\"\"\n",
        "\n",
        "calificacion = []\n",
        "\n",
        "for recorrido in range(1,4):\n",
        "  notas = int(input('Ingresa tu calificacion {}: '.format(recorrido)))\n",
        "  calificacion.append(notas)\n",
        "\n",
        "\n",
        "promedio = sum(calificacion) / 3 #Sumamos los datos de la lista\n",
        "\n",
        "if promedio >= 7:\n",
        "  print('Promocionado Paps') \n",
        "elif promedio < 7:\n",
        "  print('No te dieron tu RFC con todo :c')"
      ],
      "metadata": {
        "colab": {
          "base_uri": "https://localhost:8080/"
        },
        "id": "tGU-MXXPlTJ1",
        "outputId": "31148fef-0494-4518-e13f-9963162d80d2"
      },
      "execution_count": 107,
      "outputs": [
        {
          "output_type": "stream",
          "name": "stdout",
          "text": [
            "Ingresa tu calificacion 1: 8\n",
            "Ingresa tu calificacion 2: 8\n",
            "Ingresa tu calificacion 3: 9\n",
            "8.333333333333334\n",
            "Promocionado Paps\n"
          ]
        }
      ]
    },
    {
      "cell_type": "code",
      "source": [
        "\"\"\"Se ingresa por teclado un número positivo de uno o dos dígitos  (1..99) mostrar un mensaje indicando si el número tiene uno o dos dígitos.\"\"\"\n",
        "\n",
        "dato = int(input('Ingresa un numero positivo entre 1 y 99: '))\n",
        "if dato > 0 and dato < 100:\n",
        "  longitud = len(str(dato))\n",
        "  print('El numero que ingresaste tiene: {} digitos'.format(longitud))\n",
        "elif dato >= 100:\n",
        "  print('El numero que ingresaste tiene mas de 2 digitos')\n",
        "elif dato <= 0:\n",
        "  print('Este \"NO\" es numero positivo o esta fuera del rango señalado, intentalo de nuevo')\n",
        "\n"
      ],
      "metadata": {
        "colab": {
          "base_uri": "https://localhost:8080/"
        },
        "id": "rbRTXfsmoWrp",
        "outputId": "1d61b737-5527-4cbc-9b30-4929e4bf47a8"
      },
      "execution_count": 137,
      "outputs": [
        {
          "output_type": "stream",
          "name": "stdout",
          "text": [
            "Ingresa un numero positivo entre 1 y 99: 100\n",
            "El numero que ingresaste tiene mas de 2 digitos\n"
          ]
        }
      ]
    },
    {
      "cell_type": "code",
      "source": [
        ""
      ],
      "metadata": {
        "id": "tfEiU3NgtH3h"
      },
      "execution_count": null,
      "outputs": []
    }
  ]
}