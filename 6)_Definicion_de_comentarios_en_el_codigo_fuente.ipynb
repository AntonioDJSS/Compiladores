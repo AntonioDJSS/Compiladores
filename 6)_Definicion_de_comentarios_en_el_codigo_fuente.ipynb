{
  "nbformat": 4,
  "nbformat_minor": 0,
  "metadata": {
    "colab": {
      "name": "6) Definicion de comentarios en el codigo fuente.ipynb",
      "provenance": [],
      "authorship_tag": "ABX9TyMpwM0szyHv9OqsNolD4IYP",
      "include_colab_link": true
    },
    "kernelspec": {
      "name": "python3",
      "display_name": "Python 3"
    },
    "language_info": {
      "name": "python"
    }
  },
  "cells": [
    {
      "cell_type": "markdown",
      "metadata": {
        "id": "view-in-github",
        "colab_type": "text"
      },
      "source": [
        "<a href=\"https://colab.research.google.com/github/AntonioDJSS/Compiladores/blob/main/6)_Definicion_de_comentarios_en_el_codigo_fuente.ipynb\" target=\"_parent\"><img src=\"https://colab.research.google.com/assets/colab-badge.svg\" alt=\"Open In Colab\"/></a>"
      ]
    },
    {
      "cell_type": "markdown",
      "source": [
        "**Antonio de Jesus Sanchez Suarez** | ICO O5"
      ],
      "metadata": {
        "id": "eEbnsZ3ObI1j"
      }
    },
    {
      "cell_type": "markdown",
      "source": [
        "**PROBLEMA 1:** Mostrar la tabla de multiplicar del 5 empleando primero el while y seguidamente de nuevo empleando el for."
      ],
      "metadata": {
        "id": "4OtvfYTubQiP"
      }
    },
    {
      "cell_type": "code",
      "source": [
        "#Mostrar la tabla de 5 con las estructuras repetitivas:\n",
        "\"\"\"While y For\"\"\"\n",
        "\n",
        "#While\n",
        "print('Tabla del 5 empleando el while')\n",
        "tabla = 5\n",
        "\n",
        "while tabla <= 50:\n",
        "  print(tabla)\n",
        "  tabla += 5\n",
        "\n",
        "#For\n",
        "print('Tabla del 5 empleando el for')\n",
        "for tabla in range(5,51,5):\n",
        "  print(tabla)"
      ],
      "metadata": {
        "colab": {
          "base_uri": "https://localhost:8080/"
        },
        "id": "4knDiQyXbY0S",
        "outputId": "cc8aeee4-437a-4cee-c8f4-8666b2202c10"
      },
      "execution_count": 2,
      "outputs": [
        {
          "output_type": "stream",
          "name": "stdout",
          "text": [
            "Tabla del 5 empleando el while\n",
            "5\n",
            "10\n",
            "15\n",
            "20\n",
            "25\n",
            "30\n",
            "35\n",
            "40\n",
            "45\n",
            "50\n",
            "Tabla del 5 empleando el for\n",
            "5\n",
            "10\n",
            "15\n",
            "20\n",
            "25\n",
            "30\n",
            "35\n",
            "40\n",
            "45\n",
            "50\n"
          ]
        }
      ]
    },
    {
      "cell_type": "code",
      "source": [
        ""
      ],
      "metadata": {
        "id": "R2eMNekLcEIs"
      },
      "execution_count": null,
      "outputs": []
    }
  ]
}