{
  "nbformat": 4,
  "nbformat_minor": 0,
  "metadata": {
    "colab": {
      "name": "5) Estructura repetitiva for",
      "provenance": [],
      "collapsed_sections": [],
      "authorship_tag": "ABX9TyO2m9MEe8ddT6vNtqZPz+hG",
      "include_colab_link": true
    },
    "kernelspec": {
      "name": "python3",
      "display_name": "Python 3"
    },
    "language_info": {
      "name": "python"
    }
  },
  "cells": [
    {
      "cell_type": "markdown",
      "metadata": {
        "id": "view-in-github",
        "colab_type": "text"
      },
      "source": [
        "<a href=\"https://colab.research.google.com/github/AntonioDJSS/Compiladores/blob/main/5)_Estructura_repetitiva_for.ipynb\" target=\"_parent\"><img src=\"https://colab.research.google.com/assets/colab-badge.svg\" alt=\"Open In Colab\"/></a>"
      ]
    },
    {
      "cell_type": "markdown",
      "source": [
        "**Sanchez Suarez Antonio de Jesus** | *ICO O5*"
      ],
      "metadata": {
        "id": "WfjsuoAnOwud"
      }
    },
    {
      "cell_type": "markdown",
      "source": [
        "**Problema 01:** Realizar un programa que imprima en pantalla los números del  0 al 100. Este problema  lo  podemos  resolver  perfectamente  con  el  ciclo  while  pero  en  esta situación lo resolveremos empleando el for."
      ],
      "metadata": {
        "id": "S3xNOxg-O9-Z"
      }
    },
    {
      "cell_type": "code",
      "execution_count": null,
      "metadata": {
        "id": "6-sJJdjwOv5K"
      },
      "outputs": [],
      "source": [
        "for numero in range(101):\n",
        "  print(numero)"
      ]
    },
    {
      "cell_type": "markdown",
      "source": [
        "**Problema 02:** Realizar un programa que imprima en pantalla los números del 20 al 30."
      ],
      "metadata": {
        "id": "oZR1A4bgPOeY"
      }
    },
    {
      "cell_type": "code",
      "source": [
        "n1,n2 = 20,31\n",
        "\n",
        "for numero in range(n1,n2):\n",
        "  print(numero)"
      ],
      "metadata": {
        "id": "C2UlfsatPLfi"
      },
      "execution_count": null,
      "outputs": []
    },
    {
      "cell_type": "markdown",
      "source": [
        "**Problema 03:** Imprimir todos los números impares que hay entre 1 y 100."
      ],
      "metadata": {
        "id": "3v2VoraZPpCw"
      }
    },
    {
      "cell_type": "code",
      "source": [
        "n1,n2 =1,100\n",
        "\n",
        "for numero in range(n1,n2,2):\n",
        "  print(numero)"
      ],
      "metadata": {
        "id": "qIMdKsICPonQ"
      },
      "execution_count": null,
      "outputs": []
    },
    {
      "cell_type": "markdown",
      "source": [
        "**Problema 04:** Desarrollar un programa que permita la carga de 10 valores por teclado y nos muestre posteriormente la suma de los valores ingresados y su promedio. Este problema ya lo desarrollamos, lo resolveremos empleando la estructura for para repetir la carga de los diez valores por teclado."
      ],
      "metadata": {
        "id": "74zkn7shQCNB"
      }
    },
    {
      "cell_type": "code",
      "source": [
        "lista = []\n",
        "\n",
        "for contador in range(1,11):\n",
        "  valor = int(input('Ingresa el valor {}: '.format(contador)))\n",
        "  lista.append(valor)\n",
        "\n",
        "suma = sum(lista)\n",
        "promedio = suma / contador\n",
        "\n",
        "print(f'La suma es: {suma} y su promedio es: {promedio}')"
      ],
      "metadata": {
        "colab": {
          "base_uri": "https://localhost:8080/"
        },
        "id": "SNbXG0axPnHB",
        "outputId": "f8a3bc51-2c36-4232-baf0-b478aaa0c04a"
      },
      "execution_count": 30,
      "outputs": [
        {
          "output_type": "stream",
          "name": "stdout",
          "text": [
            "Ingresa el valor 1: 10\n",
            "Ingresa el valor 2: 10\n",
            "Ingresa el valor 3: 9\n",
            "Ingresa el valor 4: 10\n",
            "Ingresa el valor 5: 9\n",
            "Ingresa el valor 6: 8\n",
            "Ingresa el valor 7: 10\n",
            "Ingresa el valor 8: 9\n",
            "Ingresa el valor 9: 10\n",
            "Ingresa el valor 10: 10\n",
            "La suma es: 95 y su promedio es: 9.5\n"
          ]
        }
      ]
    },
    {
      "cell_type": "markdown",
      "source": [
        "**Problema 05:** Escribir un programa que solicite por teclado 10 notas de alumnos y nos informe cuántos tienen notas mayores o iguales a 7 y cuántos menores."
      ],
      "metadata": {
        "id": "0YAa7FzLT21I"
      }
    },
    {
      "cell_type": "code",
      "source": [
        "lista = []\n",
        "rango = 0\n",
        "nrango = 0\n",
        "\n",
        "for contador in range(1,11):\n",
        "  valor = int(input('Ingresa la calificacion del alumno: {}: '.format(contador)))\n",
        "  lista.append(valor)\n",
        "\n",
        "  if valor >= 7:\n",
        "    rango +=1\n",
        "    print('Tiene nota mayor a 7')\n",
        "  else:\n",
        "    nrango +=1\n",
        "\n",
        "print(f'Cantidad de alumnos aprobado: {rango} y los reprobados son: {nrango}')"
      ],
      "metadata": {
        "id": "fC1q8fqTQibq"
      },
      "execution_count": null,
      "outputs": []
    },
    {
      "cell_type": "markdown",
      "source": [
        "**Problema 06:** Escribir  un  programa  que  lea  10  números  enteros  y  luego  muestre  cuántos valores  ingresados  fueron  múltiplos  de  3  y  cuántos  de  5.  Debemos  tener  en cuenta que hay números que son múltiplos de 3 y de 5 a la vez."
      ],
      "metadata": {
        "id": "0rnZ0e5aWANq"
      }
    },
    {
      "cell_type": "code",
      "source": [
        "mul3=0\n",
        "mul5=0\n",
        "\n",
        "for f in range(10):\n",
        "  valor=int(input(\"Ingrese un valor:\"))\n",
        "  if valor %3 == 0:\n",
        "    mul3 += 1\n",
        "    print('Multiplo 3')\n",
        "\n",
        "  if valor %5 == 0:\n",
        "    mul5 += 1\n",
        "    print('Multiplo 5')\n",
        "\n",
        "print(\"\\nCantidad de valores ingresados múltiplos de 5: '{}', múltiplos de 3: '{}'\".format(mul5,mul3))"
      ],
      "metadata": {
        "colab": {
          "base_uri": "https://localhost:8080/"
        },
        "id": "q_2ndc6FVHCK",
        "outputId": "5bc64182-3bd5-4dbc-e66a-d64201d58ef8"
      },
      "execution_count": 50,
      "outputs": [
        {
          "output_type": "stream",
          "name": "stdout",
          "text": [
            "Ingrese un valor:10\n",
            "Multiplo 5\n",
            "Ingrese un valor:20\n",
            "Multiplo 5\n",
            "Ingrese un valor:90\n",
            "Multiplo 3\n",
            "Multiplo 5\n",
            "Ingrese un valor:100\n",
            "Multiplo 5\n",
            "Ingrese un valor:130\n",
            "Multiplo 5\n",
            "Ingrese un valor:120\n",
            "Multiplo 3\n",
            "Multiplo 5\n",
            "Ingrese un valor:180\n",
            "Multiplo 3\n",
            "Multiplo 5\n",
            "Ingrese un valor:10\n",
            "Multiplo 5\n",
            "Ingrese un valor:3\n",
            "Multiplo 3\n",
            "Ingrese un valor:4\n",
            "\n",
            "Cantidad de valores ingresados múltiplos de 5: '8', múltiplos de 3: '4'\n"
          ]
        }
      ]
    },
    {
      "cell_type": "markdown",
      "source": [
        "**Problema 07:** Codificar un programa que lea n números enteros y calcule la cantidad de valores mayores o iguales a 1000 (n se carga por teclado)Este  tipo  de  problemas  también  se  puede  resolver  empleando  la  estructura repetitiva  for.  Lo  primero  que  se  hace  es  cargar  una  variable  que  indique  la cantidad  de  valores  a  ingresar.  Dicha  variable  se  carga  antes  de  entrar  a  la estructura repetitiva for."
      ],
      "metadata": {
        "id": "fkwCfT79YIy8"
      }
    },
    {
      "cell_type": "code",
      "source": [
        "cantidad = 0\n",
        "almacen = []\n",
        "\n",
        "numero = int(input('Cuantos valores ingresara: '))\n",
        "\n",
        "for count in range(numero):\n",
        "  value = int(input(f'Ingresa tu valor {count}: '))\n",
        "\n",
        "  if value >= 1000:\n",
        "    cantidad += 1\n",
        "\n",
        "    almacen.append(value)\n",
        "\n",
        "\n",
        "print(f'Usted tiene \"{cantidad}\" valores mayores o iguales a 1000 los cuales son: {almacen}')"
      ],
      "metadata": {
        "colab": {
          "base_uri": "https://localhost:8080/"
        },
        "id": "53lSSUsBXnji",
        "outputId": "1e6941bd-3f2a-4b99-9fe8-4b91463fabad"
      },
      "execution_count": 57,
      "outputs": [
        {
          "output_type": "stream",
          "name": "stdout",
          "text": [
            "Cuantos valores ingresara: 4\n",
            "Ingresa tu valor 0: 1000\n",
            "Ingresa tu valor 1: 4300\n",
            "Ingresa tu valor 2: 0\n",
            "Ingresa tu valor 3: 20\n",
            "Usted tiene \"2\" valores mayores o iguales a 1000 los cuales son: [1000, 4300]\n"
          ]
        }
      ]
    },
    {
      "cell_type": "code",
      "source": [
        ""
      ],
      "metadata": {
        "id": "PRNWtL2_aLXi"
      },
      "execution_count": null,
      "outputs": []
    }
  ]
}