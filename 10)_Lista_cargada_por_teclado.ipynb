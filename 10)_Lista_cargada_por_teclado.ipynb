{
  "nbformat": 4,
  "nbformat_minor": 0,
  "metadata": {
    "colab": {
      "name": "10) Lista cargada por teclado.ipynb",
      "provenance": [],
      "authorship_tag": "ABX9TyMwiVtb9jx8ORo6CINueTHF",
      "include_colab_link": true
    },
    "kernelspec": {
      "name": "python3",
      "display_name": "Python 3"
    },
    "language_info": {
      "name": "python"
    }
  },
  "cells": [
    {
      "cell_type": "markdown",
      "metadata": {
        "id": "view-in-github",
        "colab_type": "text"
      },
      "source": [
        "<a href=\"https://colab.research.google.com/github/AntonioDJSS/Compiladores/blob/main/10)_Lista_cargada_por_teclado.ipynb\" target=\"_parent\"><img src=\"https://colab.research.google.com/assets/colab-badge.svg\" alt=\"Open In Colab\"/></a>"
      ]
    },
    {
      "cell_type": "markdown",
      "source": [
        "**Antonio de Jesus Sanchez Suarez** | ICO O5"
      ],
      "metadata": {
        "id": "rfDE4o7ttqkH"
      }
    },
    {
      "cell_type": "markdown",
      "source": [
        "Definir  una  lista  vacía  y  luego  solicitar  la  carga  de  5  enteros  por  teclado  y añadirlos a la lista. Imprimir la lista generada."
      ],
      "metadata": {
        "id": "Qrw6zlmetzS9"
      }
    },
    {
      "cell_type": "code",
      "execution_count": 2,
      "metadata": {
        "colab": {
          "base_uri": "https://localhost:8080/"
        },
        "id": "HPcYQV2btpjm",
        "outputId": "54e9caa8-8724-410b-b0cd-55eef9c38481"
      },
      "outputs": [
        {
          "output_type": "stream",
          "name": "stdout",
          "text": [
            "Ingresa tu 1° valor entero: 2\n",
            "Ingresa tu 2° valor entero: 3\n",
            "Ingresa tu 3° valor entero: 4\n",
            "Ingresa tu 4° valor entero: 5\n",
            "Ingresa tu 5° valor entero: 6\n",
            "[2, 3, 4, 5, 6]\n"
          ]
        }
      ],
      "source": [
        "lista = []\n",
        "count = 0\n",
        "\n",
        "for count in range(1,6):\n",
        "  numero = int(input(f'Ingresa tu {count}° valor entero: '))\n",
        "  lista.append(numero)\n",
        "\n",
        "print(lista)"
      ]
    },
    {
      "cell_type": "markdown",
      "source": [
        "Realizar  la  carga  de  valores  enteros  por  teclado,  almacenarlos  en  una  lista. Finalizar la carga de enteros al ingresar el cero. Mostrar finalmente el tamaño de la lista."
      ],
      "metadata": {
        "id": "c003Y5k0umwW"
      }
    },
    {
      "cell_type": "code",
      "source": [
        "lista = []\n",
        "valor = 1\n",
        "\n",
        "while valor !=0:\n",
        "  valor = int(input('Ingresa un valor, selecciona 0 para dejar de insertar datos: '))\n",
        "  lista.append(valor)\n",
        "\n",
        "longitud = len(lista)\n",
        "print(f'Tu lista tiene: {longitud} datos, los cuales son: {lista}')"
      ],
      "metadata": {
        "colab": {
          "base_uri": "https://localhost:8080/"
        },
        "id": "kZP6_mfwuVTC",
        "outputId": "d5069324-c094-4aa3-e6b8-d53946e495f2"
      },
      "execution_count": 8,
      "outputs": [
        {
          "output_type": "stream",
          "name": "stdout",
          "text": [
            "Ingresa un valor, selecciona 0 para dejar de insertar datos: 3\n",
            "Ingresa un valor, selecciona 0 para dejar de insertar datos: 54\n",
            "Ingresa un valor, selecciona 0 para dejar de insertar datos: 5\n",
            "Ingresa un valor, selecciona 0 para dejar de insertar datos: 32\n",
            "Ingresa un valor, selecciona 0 para dejar de insertar datos: 32\n",
            "Ingresa un valor, selecciona 0 para dejar de insertar datos: 45\n",
            "Ingresa un valor, selecciona 0 para dejar de insertar datos: 32\n",
            "Ingresa un valor, selecciona 0 para dejar de insertar datos: 1\n",
            "Ingresa un valor, selecciona 0 para dejar de insertar datos: 0\n",
            "Tu lista tiene: 9 datos, los cuales son: [3, 54, 5, 32, 32, 45, 32, 1, 0]\n"
          ]
        }
      ]
    }
  ]
}