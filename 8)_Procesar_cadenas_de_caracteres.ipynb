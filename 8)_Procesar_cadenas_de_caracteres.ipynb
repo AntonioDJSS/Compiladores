{
  "nbformat": 4,
  "nbformat_minor": 0,
  "metadata": {
    "colab": {
      "name": "8) Procesar cadenas de caracteres.ipynb",
      "provenance": [],
      "authorship_tag": "ABX9TyOQ/RAxlGHLWQE9FPlgQoPO",
      "include_colab_link": true
    },
    "kernelspec": {
      "name": "python3",
      "display_name": "Python 3"
    },
    "language_info": {
      "name": "python"
    }
  },
  "cells": [
    {
      "cell_type": "markdown",
      "metadata": {
        "id": "view-in-github",
        "colab_type": "text"
      },
      "source": [
        "<a href=\"https://colab.research.google.com/github/AntonioDJSS/Compiladores/blob/main/8)_Procesar_cadenas_de_caracteres.ipynb\" target=\"_parent\"><img src=\"https://colab.research.google.com/assets/colab-badge.svg\" alt=\"Open In Colab\"/></a>"
      ]
    },
    {
      "cell_type": "markdown",
      "source": [
        "**Antonio de Jesus Sanchez Suarez** | ICO O5"
      ],
      "metadata": {
        "id": "Lt2kYRVBjsNP"
      }
    },
    {
      "cell_type": "markdown",
      "source": [
        "Realizar la carga del nombre de una persona y luego mostrar el primer caracter del nombre y la cantidad de letras que lo componen."
      ],
      "metadata": {
        "id": "E_N6qX0IkKw0"
      }
    },
    {
      "cell_type": "code",
      "execution_count": 4,
      "metadata": {
        "colab": {
          "base_uri": "https://localhost:8080/"
        },
        "id": "A5D2nfnli2cO",
        "outputId": "d1aaa9a7-0502-4f49-c08e-a829f38dcd52"
      },
      "outputs": [
        {
          "output_type": "stream",
          "name": "stdout",
          "text": [
            "Ingresa tu primer nombre es: Jelipe\n",
            "Tu nombre tiene: 6 letras y su primer caracter es J\n"
          ]
        }
      ],
      "source": [
        "nombre = input('Ingresa tu primer nombre es: ')\n",
        "longitud = len(nombre)\n",
        "primero = nombre[0]\n",
        "\n",
        "print('Tu nombre tiene: {} letras y su primer caracter es {}'.format(longitud, primero))"
      ]
    },
    {
      "cell_type": "markdown",
      "source": [
        "Solicitar la carga del nombre de una persona en minúsculas. Mostrar un mensaje si comienza con vocal dicho nombre"
      ],
      "metadata": {
        "id": "oOhXs9elkyGE"
      }
    },
    {
      "cell_type": "code",
      "source": [
        "nombre = input('Ingresa tu nombre en minusculas: ')\n",
        "minusculas = nombre.lower()\n",
        "primero = minusculas[0]\n",
        "\n",
        "if minusculas[0] == 'a' or minusculas[0] == 'e' or minusculas[0] == 'i' or minusculas[0] == 'o' or minusculas[0] == 'u':\n",
        "  print('El nombre ingresado comienza con una vocal, la cual es: {}'.format(primero))\n",
        "else:\n",
        "  print('Este nombre no inicia con vocal')"
      ],
      "metadata": {
        "colab": {
          "base_uri": "https://localhost:8080/"
        },
        "id": "ezkEoS1AkdGF",
        "outputId": "83e8f2b2-1e55-4d1a-e1f4-fbac1d89c12b"
      },
      "execution_count": 11,
      "outputs": [
        {
          "output_type": "stream",
          "name": "stdout",
          "text": [
            "Ingresa tu nombre en minusculas: Ivone\n",
            "El nombre ingresado comienza con una vocal, la cual es: i\n"
          ]
        }
      ]
    },
    {
      "cell_type": "markdown",
      "source": [
        "Ingresar  un  mail  por  teclado.  Verificar  si  el  string  ingresado  contiene  solo  un caracter \"@\"."
      ],
      "metadata": {
        "id": "5Xg1Tt7Kl58s"
      }
    },
    {
      "cell_type": "code",
      "source": [
        "email = input(str('Ingresa tu email: '))\n",
        "\n",
        "cantidad = 0\n",
        "contador = 0\n",
        "\n",
        "while contador <len(email):\n",
        "  if email[contador] == '@':\n",
        "    cantidad +=1\n",
        "  contador +=1\n",
        "\n",
        "if cantidad == 1:\n",
        "  print('Contiene solo un caracter @ el corre ingresado')\n",
        "else:\n",
        "  print('Correo incorrecto')\n"
      ],
      "metadata": {
        "colab": {
          "base_uri": "https://localhost:8080/"
        },
        "id": "khNZT4C3lFA9",
        "outputId": "e7616b25-3941-4d6b-a7b9-b30039c23ff5"
      },
      "execution_count": 22,
      "outputs": [
        {
          "output_type": "stream",
          "name": "stdout",
          "text": [
            "Ingresa tu email: jesus@gmail.com\n",
            "Contiene solo un caracter @ el corre ingresado\n"
          ]
        }
      ]
    },
    {
      "cell_type": "markdown",
      "source": [
        "Inicializar un string con la cadena \"mAriA\" luego llamar a sus métodos upper(), lower() y capitalize(), guardar los datos retornados en otros string y mostrarlos por pantalla."
      ],
      "metadata": {
        "id": "Rly9poCiokv8"
      }
    },
    {
      "cell_type": "code",
      "source": [
        "nombre = input('Ingresa tu nombre: ')\n",
        "up = nombre.upper()\n",
        "lw = nombre.lower()\n",
        "cp = nombre.capitalize()\n",
        "\n",
        "print(f'\\nTu nombre en mayusculas: {up} \\nTu nombre en minusculas: {lw} \\nTu nombre con la primer letra en mayusculas: {cp}')"
      ],
      "metadata": {
        "colab": {
          "base_uri": "https://localhost:8080/"
        },
        "id": "-637pAU8nWve",
        "outputId": "af1386eb-4e76-4fb7-f223-0114dc968bc6"
      },
      "execution_count": 25,
      "outputs": [
        {
          "output_type": "stream",
          "name": "stdout",
          "text": [
            "Ingresa tu nombre: Daniel Oracio\n",
            "\n",
            "Tu nombre en mayusculas: DANIEL ORACIO \n",
            "Tu nombre en minusculas: daniel oracio \n",
            "Tu nombre con la primer letra en mayusculas: Daniel oracio\n"
          ]
        }
      ]
    },
    {
      "cell_type": "code",
      "source": [
        ""
      ],
      "metadata": {
        "id": "6e4WBlkupM23"
      },
      "execution_count": null,
      "outputs": []
    }
  ]
}