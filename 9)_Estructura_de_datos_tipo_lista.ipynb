{
  "nbformat": 4,
  "nbformat_minor": 0,
  "metadata": {
    "colab": {
      "name": "9) Estructura de datos tipo lista.ipynb",
      "provenance": [],
      "authorship_tag": "ABX9TyOvcX410r7+1GPbbjc+0L1e",
      "include_colab_link": true
    },
    "kernelspec": {
      "name": "python3",
      "display_name": "Python 3"
    },
    "language_info": {
      "name": "python"
    }
  },
  "cells": [
    {
      "cell_type": "markdown",
      "metadata": {
        "id": "view-in-github",
        "colab_type": "text"
      },
      "source": [
        "<a href=\"https://colab.research.google.com/github/AntonioDJSS/Compiladores/blob/main/9)_Estructura_de_datos_tipo_lista.ipynb\" target=\"_parent\"><img src=\"https://colab.research.google.com/assets/colab-badge.svg\" alt=\"Open In Colab\"/></a>"
      ]
    },
    {
      "cell_type": "markdown",
      "source": [
        "**Antonio de Jesus Sanchez Suarez** | ICO O5"
      ],
      "metadata": {
        "id": "5Kv2Xbm3qOkF"
      }
    },
    {
      "cell_type": "markdown",
      "source": [
        "Definir una lista que almacene 5 enteros. Sumar todos sus elementos y mostrar dicha suma."
      ],
      "metadata": {
        "id": "jxGaG6d5qRGV"
      }
    },
    {
      "cell_type": "code",
      "execution_count": 7,
      "metadata": {
        "colab": {
          "base_uri": "https://localhost:8080/"
        },
        "id": "LrSjabPQqNHb",
        "outputId": "12ab5020-3fa6-492f-c0c5-22c363b90f52"
      },
      "outputs": [
        {
          "output_type": "stream",
          "name": "stdout",
          "text": [
            "Ingresa tu dato 0: 1\n",
            "Ingresa tu dato 1: 2\n",
            "Ingresa tu dato 2: 3\n",
            "Ingresa tu dato 3: 4\n",
            "Ingresa tu dato 4: 5\n",
            "Suma: 15 \n",
            "Lista: [1, 2, 3, 4, 5]\n"
          ]
        }
      ],
      "source": [
        "lista = []\n",
        "contador = 0\n",
        "\n",
        "for contador in range(5):\n",
        "  dato = int(input(f'Ingresa tu dato {contador}: '))\n",
        "  lista.append(dato)\n",
        "\n",
        "print('Suma:',sum(lista),'\\nLista:',lista)"
      ]
    },
    {
      "cell_type": "markdown",
      "source": [
        "Definir una lista por asignación que almacene los nombres de los primeros cuatro meses de año. Mostrar el primer y último elemento de la lista solamente."
      ],
      "metadata": {
        "id": "CELKOUDWrUqe"
      }
    },
    {
      "cell_type": "code",
      "source": [
        "meses=[\"enero\", \"febrero\", \"marzo\", \"abril\"]\n",
        "print(meses[0]) \n",
        "print(meses[3]) "
      ],
      "metadata": {
        "colab": {
          "base_uri": "https://localhost:8080/"
        },
        "id": "rg8j7RcJq3v4",
        "outputId": "67c58262-29e0-4ff5-c94a-1714e1e7b09e"
      },
      "execution_count": 8,
      "outputs": [
        {
          "output_type": "stream",
          "name": "stdout",
          "text": [
            "enero\n",
            "abril\n"
          ]
        }
      ]
    },
    {
      "cell_type": "markdown",
      "source": [
        "Definir  una  lista  por  asignación  que  almacene  en  la  primer  componente  el nombre de un alumno y en las dos siguientes sus notas. Imprimir luego el nombre y el promedio de las dos notas."
      ],
      "metadata": {
        "id": "QssUYxdwrtqt"
      }
    },
    {
      "cell_type": "code",
      "source": [
        "date = [\"Jesus\", 9,9]\n",
        "nombre = date[0]\n",
        "calificaciones = date[1:2]\n",
        "suma = sum(calificaciones)\n",
        "promedio = suma/2\n",
        "\n",
        "print(f'Tu nombre es: {nombre} y tus promedio es: {calificaciones}')"
      ],
      "metadata": {
        "colab": {
          "base_uri": "https://localhost:8080/"
        },
        "id": "Xr9EGOkKrp1m",
        "outputId": "247eeac9-1180-4cae-ca8a-21a11850433a"
      },
      "execution_count": 17,
      "outputs": [
        {
          "output_type": "stream",
          "name": "stdout",
          "text": [
            "Tu nombre es: Jesus y tus promedio es: [9]\n"
          ]
        }
      ]
    },
    {
      "cell_type": "code",
      "source": [
        ""
      ],
      "metadata": {
        "id": "xbM5a60fr5xO"
      },
      "execution_count": null,
      "outputs": []
    }
  ]
}