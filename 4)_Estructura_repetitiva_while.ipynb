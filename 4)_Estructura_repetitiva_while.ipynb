{
  "nbformat": 4,
  "nbformat_minor": 0,
  "metadata": {
    "colab": {
      "name": "4) Estructura repetitiva while",
      "provenance": [],
      "collapsed_sections": [],
      "authorship_tag": "ABX9TyOF6AxtHLnijy6Mxa5vFO+/",
      "include_colab_link": true
    },
    "kernelspec": {
      "name": "python3",
      "display_name": "Python 3"
    },
    "language_info": {
      "name": "python"
    }
  },
  "cells": [
    {
      "cell_type": "markdown",
      "metadata": {
        "id": "view-in-github",
        "colab_type": "text"
      },
      "source": [
        "<a href=\"https://colab.research.google.com/github/AntonioDJSS/Compiladores/blob/main/4)_Estructura_repetitiva_while.ipynb\" target=\"_parent\"><img src=\"https://colab.research.google.com/assets/colab-badge.svg\" alt=\"Open In Colab\"/></a>"
      ]
    },
    {
      "cell_type": "markdown",
      "source": [
        "***Antonio de Jesus Sanchez Suarez*** | \n",
        "*Grupo O5*"
      ],
      "metadata": {
        "id": "exT1A3QlF_tr"
      }
    },
    {
      "cell_type": "markdown",
      "source": [
        "**PROBLEMA 1 | Realizar un programa que imprima en pantalla los números del 1 al 100.**"
      ],
      "metadata": {
        "id": "WAtMar9BF2k2"
      }
    },
    {
      "cell_type": "code",
      "execution_count": null,
      "metadata": {
        "id": "6FskkTtTFvwm"
      },
      "outputs": [],
      "source": [
        "contador = (0)\n",
        "\n",
        "while contador <= 100:\n",
        "  print(contador)\n",
        "  contador +=1"
      ]
    },
    {
      "cell_type": "markdown",
      "source": [
        "**PROBLEMA 2 | Codificar un programa que solicite la carga de un valor positivo y nos muestre desde 1 hasta el valor ingresado de uno en uno.**"
      ],
      "metadata": {
        "id": "VmB6gYXjII1O"
      }
    },
    {
      "cell_type": "code",
      "source": [
        "number = int(input(\"Ingresa tu valor:\"))\n",
        "\n",
        "contador = 1\n",
        "\n",
        "while contador <= number:\n",
        "  print(contador)\n",
        "  contador +=1"
      ],
      "metadata": {
        "colab": {
          "base_uri": "https://localhost:8080/"
        },
        "id": "qhsh1QsBGxgP",
        "outputId": "adeeedbf-e354-4710-bec4-55c786d92af2"
      },
      "execution_count": 27,
      "outputs": [
        {
          "output_type": "stream",
          "name": "stdout",
          "text": [
            "Ingresa tu valor:10\n",
            "1\n",
            "2\n",
            "3\n",
            "4\n",
            "5\n",
            "6\n",
            "7\n",
            "8\n",
            "9\n",
            "10\n"
          ]
        }
      ]
    },
    {
      "cell_type": "markdown",
      "source": [
        "**PROBLEMA 3 | Desarrollar  un  programa  que  permita  la  carga  de  10  valores  por  teclado  y  nos muestre posteriormente la suma de los valores ingresados y su promedio.**"
      ],
      "metadata": {
        "id": "jIZxGoSkI2en"
      }
    },
    {
      "cell_type": "code",
      "source": [
        "contador = 1\n",
        "suma = 0\n",
        "\n",
        "while contador <= 10:\n",
        "  numero = int( input( \"Ingresa un valor:\" ) )\n",
        "  suma = suma + numero\n",
        "  contador += 1\n",
        "\n",
        "promedio = suma/10\n",
        "print(f'La suma de los 10 valores es: {suma}')\n",
        "print('El promedio es: {}'.format(promedio))"
      ],
      "metadata": {
        "colab": {
          "base_uri": "https://localhost:8080/"
        },
        "id": "GdG05o7UIuo3",
        "outputId": "4c6dd3c8-a500-41f2-afb4-65445901f9b8"
      },
      "execution_count": 32,
      "outputs": [
        {
          "output_type": "stream",
          "name": "stdout",
          "text": [
            "Ingresa un valor:1\n",
            "Ingresa un valor:1\n",
            "Ingresa un valor:1\n",
            "Ingresa un valor:1\n",
            "Ingresa un valor:1\n",
            "Ingresa un valor:1\n",
            "Ingresa un valor:1\n",
            "Ingresa un valor:1\n",
            "Ingresa un valor:1\n",
            "Ingresa un valor:1\n",
            "La suma de los 10 valores es: 10\n",
            "El promedio es: 1.0\n"
          ]
        }
      ]
    },
    {
      "cell_type": "markdown",
      "source": [
        "**PROBLEMA 4 | Una planta   que   fabrica   perfiles   de   hierro   posee   un   lote   de   n   piezas.Confeccionar  un  programa  que  pida  ingresar  por  teclado  la  cantidad  de  piezas  a procesar  y  luego  ingrese  la  longitud  de  cada  perfil;  sabiendo  que  la  pieza  cuya longitud  esté  comprendida  en  el rango  de  1.20  y  1.30  son  aptas.  Imprimir  por pantalla la cantidad de piezas aptas que hay en el lote.**"
      ],
      "metadata": {
        "id": "_cgcm3L8KOa2"
      }
    },
    {
      "cell_type": "code",
      "source": [
        "cantidad = 0\n",
        "contador =1\n",
        "\n",
        "numero = int(input('Cuantas piezas cargara: '))\n",
        "\n",
        "while contador <= numero:\n",
        "  largo = float(input('\\nIngrese la medida de la pieza: '))\n",
        "  if largo >= 1.2 and largo <= 1.3:\n",
        "    cantidad += 1\n",
        "    print('Esta pieza es apta\\n')\n",
        "  elif largo <= 1.1 or largo >= 1.4:\n",
        "    print('Esta pieza no es apta\\n')\n",
        "    \n",
        "  contador +=1\n",
        "\n",
        "print(f'La cantidad de piezas aptas son: {cantidad}')"
      ],
      "metadata": {
        "colab": {
          "base_uri": "https://localhost:8080/"
        },
        "id": "Z1reAARGKOIH",
        "outputId": "7858dfd9-2731-42cb-81eb-f54a1c014f54"
      },
      "execution_count": 42,
      "outputs": [
        {
          "output_type": "stream",
          "name": "stdout",
          "text": [
            "Cuantas piezas cargara: 4\n",
            "\n",
            "Ingrese la medida de la pieza: 1.3\n",
            "Esta pieza es apta\n",
            "\n",
            "\n",
            "Ingrese la medida de la pieza: 1.4\n",
            "Esta pieza no es apta\n",
            "\n",
            "\n",
            "Ingrese la medida de la pieza: 1.2\n",
            "Esta pieza es apta\n",
            "\n",
            "\n",
            "Ingrese la medida de la pieza: 1\n",
            "Esta pieza no es apta\n",
            "\n",
            "La cantidad de piezas aptas son: 2\n"
          ]
        }
      ]
    },
    {
      "cell_type": "code",
      "source": [
        ""
      ],
      "metadata": {
        "id": "G-4r_OUxMoI5"
      },
      "execution_count": null,
      "outputs": []
    }
  ]
}